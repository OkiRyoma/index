{
 "cells": [
  {
   "cell_type": "code",
   "execution_count": 6,
   "id": "994631dd",
   "metadata": {},
   "outputs": [
    {
     "name": "stdout",
     "output_type": "stream",
     "text": [
      "1/1 [==============================] - 0s 230ms/step\n",
      "cellular_telephone: 0.42\n",
      "face_powder: 0.04\n",
      "thunder_snake: 0.03\n",
      "lipstick: 0.03\n",
      "harmonica: 0.02\n",
      "hair_spray: 0.02\n",
      "groom: 0.02\n",
      "perfume: 0.02\n",
      "lotion: 0.01\n",
      "bubble: 0.01\n"
     ]
    }
   ],
   "source": [
    "import tensorflow as tf\n",
    "from tensorflow import keras\n",
    "\n",
    "image_path = '/Users/okiryoma/Desktop/'\n",
    "image = tf.keras.preprocessing.image.load_img(image_path, target_size=(224, 224))  # 画像を指定サイズにリサイズ\n",
    "\n",
    "model = tf.keras.applications.MobileNetV2(weights='imagenet')  # MobileNetV2モデルを使用\n",
    "\n",
    "image = tf.keras.preprocessing.image.img_to_array(image)\n",
    "image = tf.keras.applications.mobilenet_v2.preprocess_input(image)\n",
    "image = tf.expand_dims(image, axis=0)  # バッチ次元を追加\n",
    "\n",
    "predictions = model.predict(image)\n",
    "\n",
    "from tensorflow.keras.applications.mobilenet_v2 import decode_predictions\n",
    "\n",
    "decoded_predictions = decode_predictions(predictions, top=10)[0]  # トップ10の予測を取得\n",
    "for _, label, score in decoded_predictions:\n",
    "    print(f\"{label}: {score:.2f}\")\n"
   ]
  },
  {
   "cell_type": "code",
   "execution_count": 8,
   "id": "0f5b5a4a",
   "metadata": {},
   "outputs": [
    {
     "name": "stdout",
     "output_type": "stream",
     "text": [
      "WARNING:tensorflow:5 out of the last 5 calls to <function Model.make_predict_function.<locals>.predict_function at 0x2966820e0> triggered tf.function retracing. Tracing is expensive and the excessive number of tracings could be due to (1) creating @tf.function repeatedly in a loop, (2) passing tensors with different shapes, (3) passing Python objects instead of tensors. For (1), please define your @tf.function outside of the loop. For (2), @tf.function has reduce_retracing=True option that can avoid unnecessary retracing. For (3), please refer to https://www.tensorflow.org/guide/function#controlling_retracing and https://www.tensorflow.org/api_docs/python/tf/function for  more details.\n",
      "1/1 [==============================] - 0s 370ms/step\n",
      "1/1 [==============================] - 0s 18ms/step\n",
      "Image: /Users/okiryoma/Desktop/tikyu.jpg\n",
      "chambered_nautilus: 0.44\n",
      "shower_cap: 0.13\n",
      "plastic_bag: 0.03\n",
      "gong: 0.02\n",
      "lemon: 0.02\n",
      "\n",
      "\n",
      "Image: /Users/okiryoma/Desktop/manatsu.jpg\n",
      "syringe: 0.14\n",
      "bonnet: 0.08\n",
      "spindle: 0.04\n",
      "oxygen_mask: 0.03\n",
      "shower_cap: 0.03\n",
      "\n",
      "\n"
     ]
    }
   ],
   "source": [
    "import tensorflow as tf\n",
    "from tensorflow import keras\n",
    "import numpy as np\n",
    "import cv2\n",
    "import glob\n",
    "\n",
    "# トレーニング済みの画像認識モデルを読み込みます\n",
    "model = keras.applications.MobileNetV2(weights='imagenet')\n",
    "\n",
    "def classify_images(image_paths, model):\n",
    "    results = []\n",
    "    for image_path in image_paths:\n",
    "        image = load_and_preprocess_image(image_path)\n",
    "        predictions = model.predict(image)\n",
    "        decoded_predictions = decode_predictions(predictions, top=5)[0]\n",
    "        results.append(decoded_predictions)\n",
    "    return results\n",
    "\n",
    "def load_and_preprocess_image(image_path):\n",
    "    image = cv2.imread(image_path)\n",
    "    image = cv2.resize(image, (224, 224))  # モデルの入力サイズにリサイズ\n",
    "    image = image / 255.0  # 画素値を正規化\n",
    "    image = np.expand_dims(image, axis=0)  # バッチ次元を追加\n",
    "    return image\n",
    "\n",
    "\n",
    "\n",
    "image_folder = '/Users/okiryoma/Desktop'  # 画像フォルダのパスを指定\n",
    "image_paths = glob.glob(image_folder + '/*.jpg')  # jpg形式の画像をすべて取得\n",
    "\n",
    "\n",
    "results = classify_images(image_paths, model)\n",
    "\n",
    "for i, image_path in enumerate(image_paths):\n",
    "    print(f\"Image: {image_path}\")\n",
    "    for _, label, score in results[i]:\n",
    "        print(f\"{label}: {score:.2f}\")\n",
    "    print(\"\\n\")\n"
   ]
  },
  {
   "cell_type": "code",
   "execution_count": null,
   "id": "f42486d3",
   "metadata": {},
   "outputs": [],
   "source": []
  }
 ],
 "metadata": {
  "kernelspec": {
   "display_name": "Python 3 (ipykernel)",
   "language": "python",
   "name": "python3"
  },
  "language_info": {
   "codemirror_mode": {
    "name": "ipython",
    "version": 3
   },
   "file_extension": ".py",
   "mimetype": "text/x-python",
   "name": "python",
   "nbconvert_exporter": "python",
   "pygments_lexer": "ipython3",
   "version": "3.10.8"
  }
 },
 "nbformat": 4,
 "nbformat_minor": 5
}
